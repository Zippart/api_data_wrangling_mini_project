{
 "cells": [
  {
   "cell_type": "markdown",
   "metadata": {},
   "source": [
    "This exercise will require you to pull some data from https://data.nasdaq.com/ (formerly Quandl API)."
   ]
  },
  {
   "cell_type": "markdown",
   "metadata": {},
   "source": [
    "As a first step, you will need to register a free account on the https://data.nasdaq.com/ website."
   ]
  },
  {
   "cell_type": "markdown",
   "metadata": {},
   "source": [
    "After you register, you will be provided with a unique API key, that you should store:\r\n",
    "\r\n",
    "*Note*: Use a `.env` file and put your key in there and `python-dotenv` to access it in this notebook. \r\n",
    "\r\n",
    "The code below uses a key that was used when generating this project but has since been deleted. Never submit your keys to source control. There is a `.env-example` file in this repository to illusrtate what you need. Copy that to a file called `.env` and use your own api key in that `.env` file. Make sure you also have a `.gitignore` file with a line for `.env` added to it. \r\n",
    "\r\n",
    "The standard Python gitignore is [here](https://github.com/github/gitignore/blob/master/Python.gitignore) you can just copy that. "
   ]
  },
  {
   "cell_type": "code",
   "execution_count": 3,
   "metadata": {},
   "outputs": [],
   "source": [
    "# get api key from your .env file\r",
    "import os\n",
    "from dotenv import load_dotenv\n",
    "\n",
    "load_dotenv()\n",
    "API_KEY = os.getenv('NASDAQ_API_KEY')\n",
    "\n",
    "# print(API_KEY)"
   ]
  },
  {
   "cell_type": "markdown",
   "metadata": {},
   "source": [
    "Nasdaq Data has a large number of data sources, but, unfortunately, most of them require a Premium subscription. Still, there are also a good number of free datasets."
   ]
  },
  {
   "cell_type": "markdown",
   "metadata": {},
   "source": [
    "For this mini project, we will focus on equities data from the Frankfurt Stock Exhange (FSE), which is available for free. We'll try and analyze the stock prices of a company called Carl Zeiss Meditec, which manufactures tools for eye examinations, as well as medical lasers for laser eye surgery: https://www.zeiss.com/meditec/int/home.html. The company is listed under the stock ticker AFX_X."
   ]
  },
  {
   "cell_type": "markdown",
   "metadata": {},
   "source": [
    "You can find the detailed Nasdaq Data API instructions here: https://docs.data.nasdaq.com/docs/in-depth-usage"
   ]
  },
  {
   "cell_type": "markdown",
   "metadata": {},
   "source": [
    "While there is a dedicated Python package for connecting to the Nasdaq API, we would prefer that you use the *requests* package, which can be easily downloaded using *pip* or *conda*. You can find the documentation for the package here: http://docs.python-requests.org/en/master/ "
   ]
  },
  {
   "cell_type": "markdown",
   "metadata": {},
   "source": [
    "Finally, apart from the *requests* package, you are encouraged to not use any third party Python packages, such as *pandas*, and instead focus on what's available in the Python Standard Library (the *collections* module might come in handy: https://pymotw.com/3/collections/).\n",
    "Also, since you won't have access to DataFrames, you are encouraged to us Python's native data structures - preferably dictionaries, though some questions can also be answered using lists.\n",
    "You can read more on these data structures here: https://docs.python.org/3/tutorial/datastructures.html"
   ]
  },
  {
   "cell_type": "markdown",
   "metadata": {},
   "source": [
    "Keep in mind that the JSON responses you will be getting from the API map almost one-to-one to Python's dictionaries. Unfortunately, they can be very nested, so make sure you read up on indexing dictionaries in the documentation provided above."
   ]
  },
  {
   "cell_type": "code",
   "execution_count": 4,
   "metadata": {},
   "outputs": [],
   "source": [
    "# First, import the relevant modules\n",
    "import json\n",
    "import collections\n",
    "import requests"
   ]
  },
  {
   "cell_type": "markdown",
   "metadata": {},
   "source": [
    "Note: API's can change a bit with each version, for this exercise it is reccomended to use the nasdaq api at `https://data.nasdaq.com/api/v3/`. This is the same api as what used to be quandl so `https://www.quandl.com/api/v3/` should work too.\r\n",
    "\r\n",
    "Hint: We are looking for the `AFX_X` data on the `datasets/FSE/` dataset."
   ]
  },
  {
   "cell_type": "code",
   "execution_count": 38,
   "metadata": {},
   "outputs": [
    {
     "name": "stdout",
     "output_type": "stream",
     "text": [
      "ok\n"
     ]
    }
   ],
   "source": [
    "# Now, call the Nasdaq API and pull out a small sample of the data (only one day) to get a glimpse\n",
    "# into the JSON structure that will be returned\n",
    "\n",
    "# Assign URL to variable: url\n",
    "\n",
    "start_date = '2017-01-01'\n",
    "end_date = '2017-12-31'\n",
    "collapse = 'daily'\n",
    "# exclude_column_names = 'true'\n",
    "column_index = 1\n",
    "\n",
    "# second url approach: \n",
    "\n",
    "url = 'https://data.nasdaq.com/api/v3/datasets/FSE/AFX_X/data.json' \n",
    "params = {    \n",
    "    'api_key': API_KEY,     \n",
    "    'start_date': start_date,     \n",
    "    'end_date': end_date,\n",
    "    'collapse': collapse,\n",
    "    # 'column_index': '1',\n",
    "    # 'column_index': '2'\n",
    "}\n",
    "\n",
    "# Package the request, send the request and catch the response: r\n",
    "# r = requests.get(url)\n",
    "r = requests.get(url, params=params)\n",
    "\n",
    "# Store the text of the response\n",
    "\n",
    "# print(r.text)\n",
    "stocks_data2 = r.text\n",
    "\n",
    "# print(json.dumps(r.text, indent=2))\n",
    "\n",
    "# ============================================\n",
    "    \n",
    "# API Guide:\n",
    "# https://blog.data.nasdaq.com/getting-started-with-the-nasdaq-data-link-api\n",
    "# https://docs.data.nasdaq.com/\n",
    "# https://help.data.nasdaq.com/article/497-the-api-is-not-working-for-me-what-should-i-do\n",
    "\n",
    "# https://docs.data.nasdaq.com/docs/quick-start-examples-dd"
   ]
  },
  {
   "cell_type": "code",
   "execution_count": null,
   "metadata": {},
   "outputs": [],
   "source": [
    "with open('json_stocks2.json', 'w') as json_file:\n",
    "    json_file.write(stocks_data2 + '\\n')\n",
    "\n",
    "with open('json_stocks2.json', 'r') as json_file:\n",
    "    existing_data_str = json_file.read()\n",
    "    \n",
    "# ============IMPORTANT================\n",
    "\n",
    "formatted_data = json.dumps(json.loads(existing_data_str), indent=2)\n",
    "print(formatted_data)\n"
   ]
  },
  {
   "cell_type": "code",
   "execution_count": 14,
   "metadata": {},
   "outputs": [],
   "source": [
    "# Inspect the JSON structure of the object you created, and take note of how nested it is,\r\n",
    "# as well as the overall structure"
   ]
  },
  {
   "cell_type": "markdown",
   "metadata": {},
   "source": [
    "These are your tasks for this mini project:\n",
    "\n",
    "1. Collect data from the Franfurt Stock Exchange, for the ticker AFX_X, for the whole year 2017 (keep in mind that the date format is YYYY-MM-DD).\n",
    "2. Convert the returned JSON object into a Python dictionary.\n",
    "3. Calculate what the highest and lowest opening prices were for the stock in this period.\n",
    "4. What was the largest change in any one day (based on High and Low price)?\n",
    "5. What was the largest change between any two days (based on Closing Price)?\n",
    "6. What was the average daily trading volume during this year?\n",
    "7. (Optional) What was the median trading volume during this year. (Note: you may need to implement your own function for calculating the median.)"
   ]
  },
  {
   "cell_type": "code",
   "execution_count": null,
   "metadata": {},
   "outputs": [],
   "source": [
    "# ============\n",
    "# 2. Convert the returned JSON object into a Python dictionary.\n",
    "# ============ \n",
    "\n",
    "import json\n",
    "\n",
    "# Convert JSON string to a dictionary\n",
    "data_dict = json.loads(formatted_data)\n",
    "\n",
    "# Print the resulting dictionary\n",
    "print(data_dict)"
   ]
  },
  {
   "cell_type": "code",
   "execution_count": 26,
   "metadata": {},
   "outputs": [
    {
     "name": "stdout",
     "output_type": "stream",
     "text": [
      "Highest Price: {'Date': '2017-12-14', 'High': 53.54}\n",
      "\n",
      "Lowest Price: {'Date': '2017-01-23', 'Low': 33.62}\n",
      "\n"
     ]
    }
   ],
   "source": [
    "# ========\n",
    "# 3. Calculate what the highest and lowest opening prices were for the stock in this period\n",
    "# ========\n",
    "\n",
    "column_names = data_dict['dataset_data']['column_names']\n",
    "data = data_dict['dataset_data']['data']\n",
    "\n",
    "# Find the highest and lowest prices\n",
    "highest_price = {'Date': None, 'High': float('-inf')}\n",
    "lowest_price = {'Date': None, 'Low': float('inf')}\n",
    "\n",
    "for entry in data:\n",
    "    date, high, low = entry[0], entry[2], entry[3]\n",
    "\n",
    "    # Update highest price\n",
    "    if high > highest_price['High']:\n",
    "        highest_price['Date'] = date\n",
    "        highest_price['High'] = high\n",
    "\n",
    "    # Update lowest price\n",
    "    if low < lowest_price['Low']:\n",
    "        lowest_price['Date'] = date\n",
    "        lowest_price['Low'] = low\n",
    "\n",
    "# Display the results\n",
    "print(f'Highest Price: {highest_price}\\n')\n",
    "print(f'Lowest Price: {lowest_price}\\n')"
   ]
  },
  {
   "cell_type": "code",
   "execution_count": 44,
   "metadata": {},
   "outputs": [
    {
     "name": "stdout",
     "output_type": "stream",
     "text": [
      "Largest Change: {'Date': '2017-05-11', 'Change': 2.8100000000000023}\n",
      "\n"
     ]
    }
   ],
   "source": [
    "# ============\n",
    "# 4. What was the largest change in any one day (based on High and Low price)?\n",
    "# ============\n",
    "\n",
    "largest_change = {'Date': None, 'Change': 0}\n",
    "\n",
    "for entry in data:\n",
    "    date, high, low = entry[0], entry[2], entry[3]\n",
    "\n",
    "    current_change = abs(high - low)\n",
    "\n",
    "    # Update largest change\n",
    "    if current_change > largest_change['Change']:\n",
    "        largest_change['Date'] = date\n",
    "        largest_change['Change'] = current_change\n",
    "\n",
    "# Display the results\n",
    "# 5. What was the largest change between any two days (based on Closing Price)\n",
    "print(f'Largest Change: {largest_change}\\n')"
   ]
  },
  {
   "cell_type": "code",
   "execution_count": 37,
   "metadata": {},
   "outputs": [
    {
     "name": "stdout",
     "output_type": "stream",
     "text": [
      "\n",
      "Largest Two-Day Change:  {'Date': '2017-08-08 to 2017-08-09', 'Change': 2.559999999999995} \n",
      "\n"
     ]
    }
   ],
   "source": [
    "# ============\n",
    "# 5. What was the largest change between any two days (based on Closing Price)?\n",
    "# ============\n",
    "\n",
    "two_day_change = {'Date': None, 'Change': 0}\n",
    "\n",
    "# Sort data by date in ascending order\n",
    "sorted_data = sorted(data, key=lambda x: x[0])\n",
    "\n",
    "for i in range(len(sorted_data) - 1):  # Iterate through pairs of consecutive entries\n",
    "    date1, close1 = sorted_data[i][0], sorted_data[i][4]\n",
    "    date2, close2 = sorted_data[i + 1][0], sorted_data[i + 1][4]\n",
    "\n",
    "    current_change = abs(close2 - close1)\n",
    "\n",
    "    # Update two_day_change\n",
    "    if current_change > two_day_change['Change']:\n",
    "        two_day_change['Date'] = f\"{date1} to {date2}\"\n",
    "        two_day_change['Change'] = current_change\n",
    "\n",
    "# Display the results\n",
    "print('\\nLargest Two-Day Change: ', two_day_change,'\\n')"
   ]
  },
  {
   "cell_type": "code",
   "execution_count": 48,
   "metadata": {},
   "outputs": [
    {
     "name": "stdout",
     "output_type": "stream",
     "text": [
      "\n",
      "Average Trading Volume:  89124.33725490196 \n",
      "\n"
     ]
    }
   ],
   "source": [
    "# ========\n",
    "# 6. What was the average daily trading volume during this year?\n",
    "# ========\n",
    "\n",
    "total = 0\n",
    "entry_count = 0\n",
    "\n",
    "for entry in data:\n",
    "    traded_volume = entry[6]\n",
    "    total += traded_volume\n",
    "    entry_count += 1\n",
    "\n",
    "# print(total)\n",
    "# print(entry_count)\n",
    "\n",
    "print('\\nAverage Trading Volume: ', total/entry_count,'\\n')"
   ]
  },
  {
   "cell_type": "code",
   "execution_count": null,
   "metadata": {},
   "outputs": [],
   "source": []
  }
 ],
 "metadata": {
  "interpreter": {
   "hash": "7635eb1b9d0fe97add78a7368b6b431c09bb8ad5c42e437d64abdd99821c31ae"
  },
  "kernelspec": {
   "display_name": "Python 3 (ipykernel)",
   "language": "python",
   "name": "python3"
  },
  "language_info": {
   "codemirror_mode": {
    "name": "ipython",
    "version": 3
   },
   "file_extension": ".py",
   "mimetype": "text/x-python",
   "name": "python",
   "nbconvert_exporter": "python",
   "pygments_lexer": "ipython3",
   "version": "3.8.5"
  }
 },
 "nbformat": 4,
 "nbformat_minor": 4
}
